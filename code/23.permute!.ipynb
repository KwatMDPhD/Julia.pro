{
 "cells": [
  {
   "outputs": [],
   "cell_type": "code",
   "source": [
    "using Random"
   ],
   "id": "07238f3a-ce4e-4a9f-9f5d-fcc89705c441",
   "metadata": {},
   "execution_count": null
  },
  {
   "outputs": [],
   "cell_type": "code",
   "source": [
    "for po in 1:2:6\n",
    "\n",
    "    n = 10^po\n",
    "\n",
    "    for ch in (1:9, 1.0:9, 'a':'z', [join(rand('a':'z', sizeof(Char))) for _ in 1:length('a':'z')])\n",
    "\n",
    "        println(\"$n $(eltype(ch))s\")\n",
    "\n",
    "        nu_ = rand(ch, n)\n",
    "\n",
    "        id_ = randperm(n)\n",
    "\n",
    "        @btime permute!($nu_, $id_)\n",
    "\n",
    "        @btime permute!(nu_, id_) setup = (nu_ = $nu_; id_ = $id_) evals = 1\n",
    "\n",
    "        @btime $nu_[$id_]\n",
    "\n",
    "        # Not allocating is the fastest.\n",
    "        # (This may not be a good benchmarking because the compiler may know that the loop is not doing anything.)\n",
    "        @btime begin\n",
    "\n",
    "            for id in $id_\n",
    "\n",
    "                # Do something with this.\n",
    "                $nu_[id]\n",
    "\n",
    "            end\n",
    "\n",
    "        end\n",
    "\n",
    "    end\n",
    "\n",
    "end"
   ],
   "id": "82c163fb-4640-4fb0-8ebb-af92ac70f7c1",
   "metadata": {},
   "execution_count": null
  }
 ],
 "nbformat_minor": 5,
 "metadata": {
  "language_info": {
   "file_extension": ".jl",
   "mimetype": "application/julia",
   "name": "julia",
   "version": "1.8.3"
  },
  "kernelspec": {
   "name": "julia-1.8",
   "display_name": "Julia 1.8.3",
   "language": "julia"
  }
 },
 "nbformat": 4
}
