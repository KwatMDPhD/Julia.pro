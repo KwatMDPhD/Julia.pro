{
 "cells": [
  {
   "outputs": [],
   "cell_type": "code",
   "source": [
    "median([1, 2, 3, 10])"
   ],
   "id": "7f7b855c-7cb5-46d4-96f4-ba384bb192df",
   "metadata": {},
   "execution_count": null
  },
  {
   "outputs": [],
   "cell_type": "code",
   "source": [
    "median([1, 2, 3, 10])"
   ],
   "id": "ebec8c49-2500-43ba-b690-4494c2eaf243",
   "metadata": {},
   "execution_count": null
  },
  {
   "outputs": [],
   "cell_type": "code",
   "source": [
    "mean([1, 2, 3, 10])"
   ],
   "id": "8e232954-cbd7-49a1-b4d0-29c66db6842a",
   "metadata": {},
   "execution_count": null
  },
  {
   "outputs": [],
   "cell_type": "code",
   "source": [
    "mean([1, 2, 3, 100])"
   ],
   "id": "c0c6a9e1-d9ec-4d03-8946-533ee6306241",
   "metadata": {},
   "execution_count": null
  }
 ],
 "nbformat_minor": 5,
 "metadata": {
  "language_info": {
   "file_extension": ".jl",
   "mimetype": "application/julia",
   "name": "julia",
   "version": "1.8.3"
  },
  "kernelspec": {
   "name": "julia-1.8",
   "display_name": "Julia 1.8.3",
   "language": "julia"
  }
 },
 "nbformat": 4
}
