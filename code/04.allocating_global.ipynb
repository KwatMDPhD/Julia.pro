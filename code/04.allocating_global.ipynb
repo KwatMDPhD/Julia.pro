{
 "cells": [
  {
   "outputs": [],
   "cell_type": "code",
   "source": [
    "va = 1\n",
    "\n",
    "const vac = 1\n",
    "\n",
    ";"
   ],
   "id": "ba5764b5-ef15-4617-9fcd-e004a3434768",
   "metadata": {},
   "execution_count": null
  },
  {
   "outputs": [],
   "cell_type": "code",
   "source": [
    "# Using the mutable version allocates `Any[]` and then, after infering its type during run time, `Bool[]`.\n",
    "\n",
    "@btime [nu == va for nu in (1, 2, 3)]\n",
    "\n",
    "@btime [nu == vac for nu in (1, 2, 3)]\n",
    "\n",
    ";"
   ],
   "id": "6643f58f-3987-4fb9-b7e9-b70e2f63fdfe",
   "metadata": {},
   "execution_count": null
  },
  {
   "cell_type": "markdown",
   "source": [
    "Profile allocations to see this temporary `Any[]` allocation."
   ],
   "id": "2e070c11-3e61-4d24-8967-ae36a8cd5912",
   "metadata": {}
  },
  {
   "outputs": [],
   "cell_type": "code",
   "source": [
    "function fu()\n",
    "\n",
    "    [nu == va for nu in (1, 2, 3)]\n",
    "\n",
    "end\n",
    "\n",
    "function fuc()\n",
    "\n",
    "    [nu == vac for nu in (1, 2, 3)]\n",
    "\n",
    "end"
   ],
   "id": "168af967-d436-443d-b69a-140d25f3d7a5",
   "metadata": {},
   "execution_count": null
  },
  {
   "outputs": [],
   "cell_type": "code",
   "source": [
    "@btime fu()\n",
    "\n",
    "@btime fuc()\n",
    "\n",
    ";"
   ],
   "id": "abffc750-7e39-464d-a86b-2195a88ebacf",
   "metadata": {},
   "execution_count": null
  },
  {
   "outputs": [],
   "cell_type": "code",
   "source": [
    "Profile.Allocs.clear()\n",
    "\n",
    "Profile.Allocs.@profile sample_rate = 1 fu()\n",
    "\n",
    "PProf.Allocs.pprof(from_c = false)"
   ],
   "id": "7983f184-0790-4a44-8d80-1f5f9dc7c32d",
   "metadata": {},
   "execution_count": null
  },
  {
   "outputs": [],
   "cell_type": "code",
   "source": [
    "Profile.Allocs.clear()\n",
    "\n",
    "Profile.Allocs.@profile sample_rate = 1 fuc()\n",
    "\n",
    "PProf.Allocs.pprof(from_c = false)"
   ],
   "id": "54d3d282-e2bd-46ea-b1ea-9cb0450ba262",
   "metadata": {},
   "execution_count": null
  }
 ],
 "nbformat_minor": 5,
 "metadata": {
  "language_info": {
   "file_extension": ".jl",
   "mimetype": "application/julia",
   "name": "julia",
   "version": "1.8.3"
  },
  "kernelspec": {
   "name": "julia-1.8",
   "display_name": "Julia 1.8.3",
   "language": "julia"
  }
 },
 "nbformat": 4
}
