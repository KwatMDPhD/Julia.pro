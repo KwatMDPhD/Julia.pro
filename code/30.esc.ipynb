{
 "cells": [
  {
   "outputs": [],
   "cell_type": "code",
   "source": [
    "function SexyArgument()\n",
    "    println(\"Sexy boy in `Main`.\")\n",
    "end\n",
    "\n",
    "SexyArgument()"
   ],
   "id": "b3d13309-5593-480e-a4e6-d25550009881",
   "metadata": {},
   "execution_count": null
  },
  {
   "outputs": [],
   "cell_type": "code",
   "source": [
    "module HotModule\n",
    "\n",
    "macro babe(ar)\n",
    "    quote\n",
    "\n",
    "        # Everything (including interpolated ones) is `gensym`ed.\n",
    "\n",
    "        try\n",
    "            # `gensym(ar)`.\n",
    "            ar\n",
    "            function ar() end\n",
    "        catch\n",
    "            println(\"`gensym(ar)` is one-off and guranteed to not exist, so accessing it errors.\")\n",
    "        end\n",
    "\n",
    "        try\n",
    "            # `gensym(SexyArgument)`.\n",
    "            $ar\n",
    "            function $ar() end\n",
    "        catch\n",
    "            println(\n",
    "                \"`gensym(SexyArgument)` is one-off and guranteed to not exist, so accessing it errors.\",\n",
    "            )\n",
    "        end\n",
    "\n",
    "        # Non-`gensym`ed `ar` is evaluated to be `Main.SexyArgument`.\n",
    "        $(esc(ar))\n",
    "        function $(esc(ar))()\n",
    "            println(\"Sexy girl in `HotModule`.\")\n",
    "        end\n",
    "\n",
    "        try\n",
    "            # `gensym(esc)(gensym(ar))`.\n",
    "            esc(ar)\n",
    "            ## Function names can not have two `Symbol`s; syntax error.\n",
    "            #function esc(ar)() end\n",
    "        catch\n",
    "            println(\n",
    "                \"`esc` is not consider as function `esc()`, but variable `gensym(esc)`, which does not exist.\",\n",
    "            )\n",
    "            println(\"`ar` is `gensym(ar)`.\")\n",
    "        end\n",
    "\n",
    "        try\n",
    "            # `gensym(esc)(gensym(SexyArgument))`\n",
    "            esc($ar)\n",
    "            ## Function names can not have two `Symbol`s; syntax error.\n",
    "            #function esc($ar)() end\n",
    "        catch\n",
    "            println(\n",
    "                \"`esc` is not consider as function `esc()`, but variable `gensym(esc)`, which does not exist.\",\n",
    "            )\n",
    "            println(\"`\\$ar` is interpolated as `gensym(SexyArgument)`.\")\n",
    "        end\n",
    "\n",
    "        # `struct` names are not `gensym`ed.\n",
    "        struct ar end\n",
    "\n",
    "        # Again, everything is `gensym`ed.\n",
    "        # I was surprised to find out that `$ar` becomes `GENSYM(SexyArgument).`\n",
    "\n",
    "    end\n",
    "    # Escaping `quote` returns everything within as they are.\n",
    "end\n",
    "\n",
    "end\n",
    "\n",
    "@macroexpand HotModule.@babe SexyArgument"
   ],
   "id": "e0bcf1ad-77a5-44cf-963b-1fbab1e0b15e",
   "metadata": {},
   "execution_count": null
  },
  {
   "outputs": [],
   "cell_type": "code",
   "source": [
    "HotModule.@babe SexyArgument"
   ],
   "id": "4a28e37a-7b95-4b2f-a192-041b65215af9",
   "metadata": {},
   "execution_count": null
  },
  {
   "outputs": [],
   "cell_type": "code",
   "source": [
    "SexyArgument()\n",
    "\n",
    "ar()"
   ],
   "id": "1f2156f5-565d-4f5e-b4a7-18813fa07002",
   "metadata": {},
   "execution_count": null
  }
 ],
 "nbformat_minor": 5,
 "metadata": {
  "language_info": {
   "file_extension": ".jl",
   "mimetype": "application/julia",
   "name": "julia",
   "version": "1.8.3"
  },
  "kernelspec": {
   "name": "julia-1.8",
   "display_name": "Julia 1.8.3",
   "language": "julia"
  }
 },
 "nbformat": 4
}
