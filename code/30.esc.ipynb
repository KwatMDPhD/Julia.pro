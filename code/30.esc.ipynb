{
 "cells": [
  {
   "outputs": [],
   "cell_type": "code",
   "source": [
    "function BeSexy()\n",
    "    println(\"Sexy boy in `Main`.\")\n",
    "end\n",
    "\n",
    "BeSexy()"
   ],
   "id": "b3d13309-5593-480e-a4e6-d25550009881",
   "metadata": {},
   "execution_count": null
  },
  {
   "outputs": [],
   "cell_type": "code",
   "source": [
    "module HotModule\n",
    "\n",
    "macro babe1(ar)\n",
    "    quote\n",
    "\n",
    "        # Everything (including interpolated ones) is `gensym`ed.\n",
    "\n",
    "        try\n",
    "            # `gensym(ar)`.\n",
    "            ar\n",
    "            function ar() end\n",
    "        catch\n",
    "            println(\"`gensym(ar)` is one-off and guranteed to not exist, so accessing it errors.\")\n",
    "        end\n",
    "\n",
    "        try\n",
    "            # `gensym(BeSexy)`.\n",
    "            $ar\n",
    "            function $ar() end\n",
    "        catch\n",
    "            println(\n",
    "                \"`gensym(BeSexy)` is one-off and guranteed to not exist, so accessing it errors.\",\n",
    "            )\n",
    "        end\n",
    "\n",
    "        # Non-`gensym`ed `ar` is evaluated to be `Main.BeSexy`.\n",
    "        $(esc(ar))\n",
    "        function $(esc(ar))()\n",
    "            println(\"Sexy babe(1) in `HotModule`.\")\n",
    "        end\n",
    "\n",
    "        try\n",
    "            # `gensym(esc)(gensym(ar))`.\n",
    "            esc(ar)\n",
    "            ## Function names can not have two `Symbol`s; syntax error.\n",
    "            #function esc(ar)() end\n",
    "        catch\n",
    "            println(\n",
    "                \"`esc` is not consider as function `esc()`, but variable `gensym(esc)`, which does not exist.\",\n",
    "            )\n",
    "            println(\"`ar` is `gensym(ar)`.\")\n",
    "        end\n",
    "\n",
    "        try\n",
    "            # `gensym(esc)(gensym(BeSexy))`\n",
    "            esc($ar)\n",
    "            ## Function names can not have two `Symbol`s; syntax error.\n",
    "            #function esc($ar)() end\n",
    "        catch\n",
    "            println(\n",
    "                \"`esc` is not consider as function `esc()`, but variable `gensym(esc)`, which does not exist.\",\n",
    "            )\n",
    "            println(\"`\\$ar` is interpolated as `gensym(BeSexy)`.\")\n",
    "        end\n",
    "\n",
    "        # `struct` names are not `gensym`ed.\n",
    "        struct ar end\n",
    "\n",
    "        # Again, everything is `gensym`ed.\n",
    "        # I was surprised to find out that `$ar` becomes `GENSYM(BeSexy).`\n",
    "\n",
    "    end\n",
    "end\n",
    "\n",
    "macro babe2(ar)\n",
    "    # Escaping `quote` returns everything within as they are.\n",
    "    esc(quote\n",
    "\n",
    "        esc(ar)\n",
    "\n",
    "        ar\n",
    "        function ar() end\n",
    "\n",
    "        $ar\n",
    "        function $ar()\n",
    "            println(\"Sexy babe(2) in `HotModule`.\")\n",
    "        end\n",
    "\n",
    "        struct ar end\n",
    "\n",
    "    end)\n",
    "end\n",
    "\n",
    "end"
   ],
   "id": "4825401b-3d37-4561-a48a-04a43f3a850d",
   "metadata": {},
   "execution_count": null
  },
  {
   "outputs": [],
   "cell_type": "code",
   "source": [
    "@macroexpand HotModule.@babe1 BeSexy"
   ],
   "id": "b8947094-afbb-4279-a4d1-f92279b9b166",
   "metadata": {},
   "execution_count": null
  },
  {
   "outputs": [],
   "cell_type": "code",
   "source": [
    "HotModule.@babe1 BeSexy\n",
    "\n",
    "BeSexy()\n",
    "\n",
    "ar()"
   ],
   "id": "a6e9c324-43e1-490c-9c00-6affe58e8bc5",
   "metadata": {},
   "execution_count": null
  },
  {
   "outputs": [],
   "cell_type": "code",
   "source": [
    "@macroexpand HotModule.@babe2 BeSexy"
   ],
   "id": "a99a741a-a3a5-46a8-b2f5-e31da9ba2ff3",
   "metadata": {},
   "execution_count": null
  },
  {
   "outputs": [],
   "cell_type": "code",
   "source": [
    "HotModule.@babe2 BeSexy\n",
    "\n",
    "BeSexy()\n",
    "\n",
    "ar()"
   ],
   "id": "5d8904bd-c007-41eb-afd1-10beebe04c53",
   "metadata": {},
   "execution_count": null
  }
 ],
 "nbformat_minor": 5,
 "metadata": {
  "language_info": {
   "file_extension": ".jl",
   "mimetype": "application/julia",
   "name": "julia",
   "version": "1.8.3"
  },
  "kernelspec": {
   "name": "julia-1.8",
   "display_name": "Julia 1.8.3",
   "language": "julia"
  }
 },
 "nbformat": 4
}
