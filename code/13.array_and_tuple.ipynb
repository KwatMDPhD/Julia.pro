{
 "cells": [
  {
   "outputs": [],
   "cell_type": "code",
   "source": [
    "n = 10^3\n",
    "\n",
    ";"
   ],
   "id": "f515ca0f-d33b-4cc3-a2c5-e2778406920b",
   "metadata": {},
   "execution_count": null
  },
  {
   "outputs": [],
   "cell_type": "code",
   "source": [
    "ar2a__ = [[string(rand()) for _ in 1:2] for _ in 1:n]\n",
    "\n",
    "ar4a__ = [[string(rand()) for _ in 1:4] for _ in 1:n]\n",
    "\n",
    "println(typeof(ar2a__))\n",
    "\n",
    "println(typeof(ar4a__))"
   ],
   "id": "bd350254-d722-408b-9172-231b50a9b531",
   "metadata": {},
   "execution_count": null
  },
  {
   "outputs": [],
   "cell_type": "code",
   "source": [
    "function fu1(ar__)\n",
    "\n",
    "    for ar_ in ar__\n",
    "\n",
    "        string(ar_...)\n",
    "\n",
    "    end\n",
    "\n",
    "end\n",
    "\n",
    ";"
   ],
   "id": "c819e4ec-e4d1-4982-9fe4-167983d21c4e",
   "metadata": {},
   "execution_count": null
  },
  {
   "outputs": [],
   "cell_type": "code",
   "source": [
    "function fu22(ar__)\n",
    "\n",
    "    for ar_ in ar__\n",
    "\n",
    "        string(ar_[1], ar_[2])\n",
    "\n",
    "    end\n",
    "\n",
    "end\n",
    "\n",
    "function fu24(ar__)\n",
    "\n",
    "    for ar_ in ar__\n",
    "\n",
    "        string(ar_[1], ar_[2], ar_[3], ar_[4])\n",
    "\n",
    "    end\n",
    "\n",
    "end\n",
    "\n",
    ";"
   ],
   "id": "5b77881e-fe28-4c2a-8269-73240d3cc2bf",
   "metadata": {},
   "execution_count": null
  },
  {
   "outputs": [],
   "cell_type": "code",
   "source": [
    "function fu32(ar__)\n",
    "\n",
    "    for (on, tw) in ar__\n",
    "\n",
    "        string(on, tw)\n",
    "\n",
    "    end\n",
    "\n",
    "end\n",
    "\n",
    "function fu34(ar__)\n",
    "\n",
    "    for (on, tw, th, fo) in ar__\n",
    "\n",
    "        string(on, tw, th, fo)\n",
    "\n",
    "    end\n",
    "\n",
    "end\n",
    "\n",
    ";"
   ],
   "id": "6b36a315-4d79-4b2b-bfd5-5c0c9b54d731",
   "metadata": {},
   "execution_count": null
  },
  {
   "outputs": [],
   "cell_type": "code",
   "source": [
    "@btime fu1($ar2a__)\n",
    "\n",
    "@btime fu1($ar4a__)\n",
    "\n",
    "@btime fu22($ar2a__)\n",
    "\n",
    "@btime fu24($ar4a__)\n",
    "\n",
    "@btime fu32($ar2a__)\n",
    "\n",
    "@btime fu34($ar4a__)\n",
    "\n",
    ";"
   ],
   "id": "6cc311be-17ae-41f0-b27b-8d25c6e4fea5",
   "metadata": {},
   "execution_count": null
  },
  {
   "cell_type": "markdown",
   "source": [
    "`fu1` is slow because the compiler does not know the `...` objects until run-time.\n",
    "\n",
    "Pick function 2 or 3 based on your style.\n",
    "I like `fu2*`."
   ],
   "id": "e42783ac-2901-4414-be48-6619bd85e370",
   "metadata": {}
  },
  {
   "cell_type": "markdown",
   "source": [
    "But using `Tuple` makes every variation as fast because the compiler knows that a `Tuple` is concrete and immutable."
   ],
   "id": "d3f0b7e3-8673-4e14-8be0-39896412db91",
   "metadata": {}
  },
  {
   "outputs": [],
   "cell_type": "code",
   "source": [
    "ar2t__ = [Tuple(ar2_) for ar2_ in ar2a__]\n",
    "\n",
    "ar4t__ = [Tuple(ar4_) for ar4_ in ar4a__]\n",
    "\n",
    "println(typeof(ar2t__))\n",
    "\n",
    "println(typeof(ar4t__))"
   ],
   "id": "47b8dbb5-d897-49d3-b389-5288047a68f1",
   "metadata": {},
   "execution_count": null
  },
  {
   "outputs": [],
   "cell_type": "code",
   "source": [
    "@btime fu1($ar2t__)\n",
    "\n",
    "@btime fu1($ar4t__)\n",
    "\n",
    "@btime fu22($ar2t__)\n",
    "\n",
    "@btime fu24($ar4t__)\n",
    "\n",
    "@btime fu32($ar2t__)\n",
    "\n",
    "@btime fu34($ar4t__)\n",
    "\n",
    ";"
   ],
   "id": "50fd4d59-0387-4113-8aad-e4d278a2882a",
   "metadata": {},
   "execution_count": null
  },
  {
   "cell_type": "markdown",
   "source": [
    "Use `Tuple`s more.\n",
    "Be type stable."
   ],
   "id": "96c64844-840e-401e-85b9-2c3eee970f3f",
   "metadata": {}
  }
 ],
 "nbformat_minor": 5,
 "metadata": {
  "language_info": {
   "file_extension": ".jl",
   "mimetype": "application/julia",
   "name": "julia",
   "version": "1.8.3"
  },
  "kernelspec": {
   "name": "julia-1.8",
   "display_name": "Julia 1.8.3",
   "language": "julia"
  }
 },
 "nbformat": 4
}
