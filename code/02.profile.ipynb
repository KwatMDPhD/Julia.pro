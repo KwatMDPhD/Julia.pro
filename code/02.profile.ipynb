{
 "cells": [
  {
   "outputs": [],
   "cell_type": "code",
   "source": [
    "# Making a bigger vector results in 1 more allocation...\n",
    "\n",
    "@btime [\"Aa\" for _ in 1:10]\n",
    "\n",
    "@btime [\"Aa\" for _ in 1:10000]\n",
    "\n",
    ";"
   ],
   "id": "b6955d47-9d18-445b-8e06-a32c01a29803",
   "metadata": {},
   "execution_count": null
  },
  {
   "outputs": [],
   "cell_type": "code",
   "source": [
    "# Let's make this code into a function, profile it, and figure out where the allocation comes from.\n",
    "\n",
    "function fu(si)\n",
    "\n",
    "    [\"Aa\" for _ in 1:si]\n",
    "\n",
    "end"
   ],
   "id": "d1fc2ee6-73f3-4900-ad7c-b14ce95e03b0",
   "metadata": {},
   "execution_count": null
  },
  {
   "outputs": [],
   "cell_type": "code",
   "source": [
    "# The function forms of the code behave the same.\n",
    "\n",
    "@btime fu(10)\n",
    "\n",
    "@btime fu(10000)\n",
    "\n",
    ";"
   ],
   "id": "6b51a57e-e1ee-47bd-a3e7-59c95aca006a",
   "metadata": {},
   "execution_count": null
  },
  {
   "outputs": [],
   "cell_type": "code",
   "source": [
    "# Profile allocations from using the smaller vector.\n",
    "\n",
    "Profile.Allocs.clear()\n",
    "\n",
    "Profile.Allocs.@profile sample_rate = 1 fu(10)\n",
    "\n",
    "PProf.Allocs.pprof(from_c = false)"
   ],
   "id": "626f16ad-20d7-4dee-9ff0-bd53c48f7a24",
   "metadata": {},
   "execution_count": null
  },
  {
   "outputs": [],
   "cell_type": "code",
   "source": [
    "# Profile allocations from using the bigger vector.\n",
    "# The extra allocation seems to be coming from `collect` making a temporary buffer vector.\n",
    "\n",
    "Profile.Allocs.clear()\n",
    "\n",
    "Profile.Allocs.@profile sample_rate = 1 fu(10000)\n",
    "\n",
    "PProf.Allocs.pprof(from_c = false)"
   ],
   "id": "e4bc9275-e290-4187-9889-362dbb8c7513",
   "metadata": {},
   "execution_count": null
  }
 ],
 "nbformat_minor": 5,
 "metadata": {
  "language_info": {
   "file_extension": ".jl",
   "mimetype": "application/julia",
   "name": "julia",
   "version": "1.8.3"
  },
  "kernelspec": {
   "name": "julia-1.8",
   "display_name": "Julia 1.8.3",
   "language": "julia"
  }
 },
 "nbformat": 4
}
