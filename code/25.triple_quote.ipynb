{
 "cells": [
  {
   "outputs": [],
   "cell_type": "code",
   "source": [
    "println(\"\"\"This line is on the same line as and references the first \\\"\\\"\\\".\n",
    "   This line is two spaces ahead of the reference.\n",
    "  This line is one space ahead of the reference.\n",
    " The left-most line is the reference.\"\"\")"
   ],
   "id": "0e45b0b8-f104-45ca-9ddb-d294d528c7b4",
   "metadata": {},
   "execution_count": null
  },
  {
   "outputs": [],
   "cell_type": "code",
   "source": [
    "println(\"\"\"\n",
    " The left-most line is the reference.\n",
    " This line is left-aligned with the reference.\n",
    "  This line is one space ahead.\n",
    "   This line is two spaces ahead.\"\"\")"
   ],
   "id": "099ae830-896a-4305-8fa1-0d7ec684d318",
   "metadata": {},
   "execution_count": null
  }
 ],
 "nbformat_minor": 5,
 "metadata": {
  "language_info": {
   "file_extension": ".jl",
   "mimetype": "application/julia",
   "name": "julia",
   "version": "1.8.3"
  },
  "kernelspec": {
   "name": "julia-1.8",
   "display_name": "Julia 1.8.3",
   "language": "julia"
  }
 },
 "nbformat": 4
}
