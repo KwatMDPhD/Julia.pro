{
 "cells": [
  {
   "outputs": [],
   "cell_type": "code",
   "source": [
    "ke_va = Dict(zip('a':'z', 1:26))\n",
    "\n",
    "@btime haskey($ke_va, 'a')\n",
    "\n",
    "@btime 'a' in keys($ke_va)\n",
    "\n",
    "@btime haskey($ke_va, \"Aa\")\n",
    "\n",
    "@btime \"Aa\" in keys($ke_va)\n",
    "\n",
    ";"
   ],
   "id": "c423cabd-8482-42d1-a3ab-efa4c18dbdde",
   "metadata": {},
   "execution_count": null
  }
 ],
 "nbformat_minor": 5,
 "metadata": {
  "language_info": {
   "file_extension": ".jl",
   "mimetype": "application/julia",
   "name": "julia",
   "version": "1.8.3"
  },
  "kernelspec": {
   "name": "julia-1.8",
   "display_name": "Julia 1.8.3",
   "language": "julia"
  }
 },
 "nbformat": 4
}
