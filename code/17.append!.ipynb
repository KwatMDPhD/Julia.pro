{
 "cells": [
  {
   "outputs": [],
   "cell_type": "code",
   "source": [
    "# When operating on two objects, it is usually good for them to be of the same type, like in `::Int * ::Int`.\n",
    "# However, when working on 2 `Array`s, using a `Tuple` or `Generator` is often faster.\n",
    "\n",
    "@btime append!($[1, 2, 3], $[4, 5])\n",
    "\n",
    "@btime append!($[1, 2, 3], ($4):5)\n",
    "\n",
    "@btime append!($[1, 2, 3], $(4, 5))\n",
    "\n",
    "@btime append!($[1, 2, 3], $(id for id in (4, 5)))\n",
    "\n",
    ";"
   ],
   "id": "c0f3e320-bd16-47ce-9c98-8ec4533ba5bc",
   "metadata": {},
   "execution_count": null
  }
 ],
 "nbformat_minor": 5,
 "metadata": {
  "language_info": {
   "file_extension": ".jl",
   "mimetype": "application/julia",
   "name": "julia",
   "version": "1.8.3"
  },
  "kernelspec": {
   "name": "julia-1.8",
   "display_name": "Julia 1.8.3",
   "language": "julia"
  }
 },
 "nbformat": 4
}
