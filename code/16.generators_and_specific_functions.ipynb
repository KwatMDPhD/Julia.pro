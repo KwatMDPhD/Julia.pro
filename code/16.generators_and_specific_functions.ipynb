{
 "cells": [
  {
   "outputs": [],
   "cell_type": "code",
   "source": [
    "an_ = rand((0, 1, missing), 10^3)\n",
    "\n",
    ";"
   ],
   "id": "2a4ab9b1-e0a3-45f1-a18b-0ee3ebe23617",
   "metadata": {},
   "execution_count": null
  },
  {
   "outputs": [],
   "cell_type": "code",
   "source": [
    "# Generators are usually great.\n",
    "@btime findall(ismissing(an) for an in $an_)\n",
    "\n",
    "# But specific functions can be even better.\n",
    "# The compiler fuses element-wise `ismissing` and `findall`.\n",
    "\n",
    "@btime findall(ismissing.($an_))\n",
    "\n",
    "@btime findall(ismissing, $an_)\n",
    "\n",
    ";"
   ],
   "id": "6591c028-81cb-41c4-a138-2f04f38ec9dd",
   "metadata": {},
   "execution_count": null
  }
 ],
 "nbformat_minor": 5,
 "metadata": {
  "language_info": {
   "file_extension": ".jl",
   "mimetype": "application/julia",
   "name": "julia",
   "version": "1.8.3"
  },
  "kernelspec": {
   "name": "julia-1.8",
   "display_name": "Julia 1.8.3",
   "language": "julia"
  }
 },
 "nbformat": 4
}
