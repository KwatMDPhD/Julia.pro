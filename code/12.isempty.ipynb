{
 "cells": [
  {
   "cell_type": "markdown",
   "source": [
    "`isempty` is general in terms of Julia yet specific in terms of operations, making it fast."
   ],
   "id": "b6107dd4-1178-4743-a04f-fb8e3445b4c8",
   "metadata": {}
  },
  {
   "outputs": [],
   "cell_type": "code",
   "source": [
    "for (em, co) in (\n",
    "    (Set(), Set((1, 2))),\n",
    "    (Dict(), Dict(\"1\" => 1, \"2\" => 2)),\n",
    "    (\"\", \"12\"),\n",
    "    ((), (1, 2)),\n",
    "    ([], [1, 2]),\n",
    ")\n",
    "\n",
    "    for co2 in (em, co)\n",
    "\n",
    "        println(co2)\n",
    "\n",
    "        @btime isempty($co2)\n",
    "\n",
    "        @btime length($co2) == 0\n",
    "\n",
    "        @btime $co2 == $em\n",
    "\n",
    "    end\n",
    "\n",
    "end"
   ],
   "id": "36a47ef1-695c-46c9-9f17-f1fde38538cd",
   "metadata": {},
   "execution_count": null
  }
 ],
 "nbformat_minor": 5,
 "metadata": {
  "language_info": {
   "file_extension": ".jl",
   "mimetype": "application/julia",
   "name": "julia",
   "version": "1.8.3"
  },
  "kernelspec": {
   "name": "julia-1.8",
   "display_name": "Julia 1.8.3",
   "language": "julia"
  }
 },
 "nbformat": 4
}
