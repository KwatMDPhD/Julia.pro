{
 "cells": [
  {
   "cell_type": "markdown",
   "source": [
    "`for` loop creates a private block, whose variables can not be seen by its parent block."
   ],
   "id": "67bb00d2-d5d2-45ad-87c7-b4efaae54c31",
   "metadata": {}
  },
  {
   "outputs": [],
   "cell_type": "code",
   "source": [
    "for _ in 1:1\n",
    "\n",
    "    va = 1\n",
    "\n",
    "end\n",
    "\n",
    "va"
   ],
   "id": "5b0186ee-c0c5-4250-98b9-2d47cab5d066",
   "metadata": {},
   "execution_count": null
  },
  {
   "outputs": [],
   "cell_type": "code",
   "source": [
    "function fu1()\n",
    "\n",
    "    for _ in 1:1\n",
    "\n",
    "        va = 1\n",
    "\n",
    "    end\n",
    "\n",
    "    va\n",
    "\n",
    "end\n",
    "\n",
    "fu1()"
   ],
   "id": "fdb9ea04-60e0-4ec8-aa70-4ba947eb9d03",
   "metadata": {},
   "execution_count": null
  },
  {
   "outputs": [],
   "cell_type": "code",
   "source": [
    "function fu2()\n",
    "\n",
    "    for va in 1:1\n",
    "\n",
    "    end\n",
    "\n",
    "    va\n",
    "\n",
    "end\n",
    "\n",
    "fu2()"
   ],
   "id": "1b6813a1-3ad6-483b-bbd3-13753dba9c38",
   "metadata": {},
   "execution_count": null
  },
  {
   "cell_type": "markdown",
   "source": [
    "The compiler sees variable `va` even though it is not assigned, gets ready to use it, and refers to it in its and its children's blocks.\n",
    "However, if it is not assigned, updating or returning it errors."
   ],
   "id": "a4feb796-1e5d-48eb-81f7-e12a45981d5b",
   "metadata": {}
  },
  {
   "outputs": [],
   "cell_type": "code",
   "source": [
    "function fu3(bo, n)\n",
    "\n",
    "    if bo\n",
    "\n",
    "        va = 0\n",
    "\n",
    "    end\n",
    "\n",
    "    for _ in 1:n\n",
    "\n",
    "        va += 1\n",
    "\n",
    "    end\n",
    "\n",
    "    va\n",
    "\n",
    "end"
   ],
   "id": "d4ac28c5-20a7-4c91-bc7a-d224f9776683",
   "metadata": {},
   "execution_count": null
  },
  {
   "outputs": [],
   "cell_type": "code",
   "source": [
    "fu3(true, 0)"
   ],
   "id": "60705edd-f7c1-4659-880c-b57d6396bc3c",
   "metadata": {},
   "execution_count": null
  },
  {
   "outputs": [],
   "cell_type": "code",
   "source": [
    "fu3(false, 1)"
   ],
   "id": "60852cd4-0471-4708-a869-f01d88c77200",
   "metadata": {},
   "execution_count": null
  },
  {
   "outputs": [],
   "cell_type": "code",
   "source": [
    "function fu4(bo, n)\n",
    "\n",
    "    if bo\n",
    "\n",
    "        va = 0\n",
    "\n",
    "    end\n",
    "\n",
    "    for _ in 1:n\n",
    "\n",
    "        va = 1\n",
    "\n",
    "    end\n",
    "\n",
    "    va\n",
    "\n",
    "end"
   ],
   "id": "5959015b-30a7-484c-875b-567715aaffa6",
   "metadata": {},
   "execution_count": null
  },
  {
   "outputs": [],
   "cell_type": "code",
   "source": [
    "fu4(true, 0)"
   ],
   "id": "f53c9295-f7cb-4655-ae83-50c04a937daf",
   "metadata": {},
   "execution_count": null
  },
  {
   "outputs": [],
   "cell_type": "code",
   "source": [
    "fu4(false, 1)"
   ],
   "id": "17f07cb2-e447-4b52-8ee3-52f23283f2e7",
   "metadata": {},
   "execution_count": null
  }
 ],
 "nbformat_minor": 5,
 "metadata": {
  "language_info": {
   "file_extension": ".jl",
   "mimetype": "application/julia",
   "name": "julia",
   "version": "1.8.3"
  },
  "kernelspec": {
   "name": "julia-1.8",
   "display_name": "Julia 1.8.3",
   "language": "julia"
  }
 },
 "nbformat": 4
}
