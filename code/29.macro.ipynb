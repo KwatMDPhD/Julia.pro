{
 "cells": [
  {
   "cell_type": "markdown",
   "source": [
    "`quote` block makes a `begin` block, which is an `Expr`.\n",
    "An `Expr` stores expressions, evaluation of which returns the last `return` object."
   ],
   "id": "694ab7e5-8551-4341-80fc-a61856c4c923",
   "metadata": {}
  },
  {
   "outputs": [],
   "cell_type": "code",
   "source": [
    "ex = :(println(\"Calculating...\"); 1 + 2)\n",
    "\n",
    "println(typeof(ex))\n",
    "\n",
    "eval(ex)"
   ],
   "id": "97e169c7-39bd-4947-8281-722ccbb5ea4f",
   "metadata": {},
   "execution_count": null
  },
  {
   "outputs": [],
   "cell_type": "code",
   "source": [
    "ex = quote\n",
    "    println(\"Calculating...\")\n",
    "    1 + 2\n",
    "end\n",
    "\n",
    "println(typeof(ex))\n",
    "\n",
    "eval(ex)"
   ],
   "id": "0d1d8503-947b-497e-a801-10025f2a2865",
   "metadata": {},
   "execution_count": null
  },
  {
   "cell_type": "markdown",
   "source": [
    "Just as `\"$va\"` interpolates `va` in the process of making a `String`, `$` interpolates variables in the process of making an `Expr`."
   ],
   "id": "2c251f7d-58f8-4d93-94c0-1eb77817207c",
   "metadata": {}
  },
  {
   "outputs": [],
   "cell_type": "code",
   "source": [
    "va = 8;"
   ],
   "id": "50e5a4da-60ed-418a-bc71-a16c9f7c4f17",
   "metadata": {},
   "execution_count": null
  },
  {
   "outputs": [],
   "cell_type": "code",
   "source": [
    "# This `Expr` interpolates `va`, which has been defined to be 8.\n",
    "qu = quote\n",
    "    1 + 2\n",
    "    3 * $va\n",
    "end\n",
    "println(qu, \" IS A \", typeof(qu), \" AND EVALUATES TO \", eval(qu))"
   ],
   "id": "09538949-3974-4667-8275-95737ded9fe1",
   "metadata": {},
   "execution_count": null
  },
  {
   "outputs": [],
   "cell_type": "code",
   "source": [
    "try\n",
    "    # This `Expr` interpolates `no`, which has not been defined.\n",
    "    quote\n",
    "        1 + 2\n",
    "        3 * $no\n",
    "    end\n",
    "catch er\n",
    "    println(er)\n",
    "end"
   ],
   "id": "8a31b12a-8e63-4caf-8cd2-c329fdb33119",
   "metadata": {},
   "execution_count": null
  },
  {
   "cell_type": "markdown",
   "source": [
    "Every expression contained within an `Expr` must be able to execute."
   ],
   "id": "5abeaae8-b3b4-46cb-ba21-8d32c4d7ef63",
   "metadata": {}
  },
  {
   "outputs": [],
   "cell_type": "code",
   "source": [
    "# This `Expr` plans to use `va`, which will be defined to be 8.\n",
    "qu = quote\n",
    "    1 + 2\n",
    "    3 * va\n",
    "end\n",
    "println(qu, \" IS A \", typeof(qu), \" AND EVALUATES TO \", eval(qu))"
   ],
   "id": "0a36539d-f8d0-44d7-93da-26e78e292737",
   "metadata": {},
   "execution_count": null
  },
  {
   "outputs": [],
   "cell_type": "code",
   "source": [
    "# This `Expr` plans to use `no`, which will not be defined.\n",
    "qu = quote\n",
    "    1 + 2\n",
    "    3 * no\n",
    "end\n",
    "try\n",
    "    println(qu, \" IS A \", typeof(qu), \" AND EVALUATES TO \", eval(qu))\n",
    "catch er\n",
    "    println(er)\n",
    "end"
   ],
   "id": "7c2e36a7-40cb-4291-b7cc-e0dddb697eeb",
   "metadata": {},
   "execution_count": null
  },
  {
   "cell_type": "markdown",
   "source": [
    "`macro`s make expressions at parse time.\n",
    "A `macro` takes expressions, symbols, andor literals, makes one of them, and replaces itself with it, which is then immediately evaluated."
   ],
   "id": "fca5cd41-14f6-4804-a8e3-bf43a9d1cb71",
   "metadata": {}
  },
  {
   "outputs": [],
   "cell_type": "code",
   "source": [
    "macro ma(ex)\n",
    "    # This `Expr` is `ex`, which is interpolated.\n",
    "    ex\n",
    "end\n",
    "println(\n",
    "    (@macroexpand @ma 1 + 2),\n",
    "    \" BECOMES A \",\n",
    "    typeof(@macroexpand @ma 1 + 2),\n",
    "    \" THAT EVALUATES TO \",\n",
    "    (@ma 1 + 2),\n",
    "    \" OF TYPE \",\n",
    "    typeof(@ma 1 + 2),\n",
    ")"
   ],
   "id": "c68ff97e-61c8-4db0-889b-1fa14cff2e17",
   "metadata": {},
   "execution_count": null
  },
  {
   "outputs": [],
   "cell_type": "code",
   "source": [
    "macro ma(ex)\n",
    "    # This `Expr` contains `ex`, which will be interpolated.\n",
    "    quote\n",
    "        ex\n",
    "    end\n",
    "end\n",
    "try\n",
    "    println(\n",
    "        (@macroexpand @ma 1 + 2),\n",
    "        \" BECOMES A \",\n",
    "        typeof(@macroexpand @ma 1 + 2),\n",
    "        \" THAT EVALUATES TO \",\n",
    "        (@ma 1 + 2),\n",
    "        \" OF TYPE \",\n",
    "        typeof(@ma 1 + 2),\n",
    "    )\n",
    "catch er\n",
    "    println(er)\n",
    "end"
   ],
   "id": "bdbf9d6a-3aff-48f9-8a39-58c575cd7600",
   "metadata": {},
   "execution_count": null
  },
  {
   "outputs": [],
   "cell_type": "code",
   "source": [
    "macro ma(ex)\n",
    "    # This `Expr` contains `ex`, which is interpolated.\n",
    "    quote\n",
    "        $ex\n",
    "    end\n",
    "end\n",
    "println(\n",
    "    (@macroexpand @ma 1 + 2),\n",
    "    \" BECOMES A \",\n",
    "    typeof(@macroexpand @ma 1 + 2),\n",
    "    \" THAT EVALUATES TO \",\n",
    "    (@ma 1 + 2),\n",
    "    \" OF TYPE \",\n",
    "    typeof(@ma 1 + 2),\n",
    ")"
   ],
   "id": "cdcdded7-1265-4f32-8b1f-334dffb813c0",
   "metadata": {},
   "execution_count": null
  },
  {
   "outputs": [],
   "cell_type": "code",
   "source": [
    "macro ma(ex)\n",
    "    # This is not an `Expr` but just a `String`.\n",
    "    \"ex\"\n",
    "end\n",
    "println(\n",
    "    (@macroexpand @ma 1 + 2),\n",
    "    \" BECOMES \",\n",
    "    typeof(@macroexpand @ma 1 + 2),\n",
    "    \" THAT EVALUATES TO \",\n",
    "    (@ma 1 + 2),\n",
    "    \" OF TYPE \",\n",
    "    typeof(@ma 1 + 2),\n",
    ")"
   ],
   "id": "ee6849d3-69b6-4563-8005-13d19d14361d",
   "metadata": {},
   "execution_count": null
  },
  {
   "outputs": [],
   "cell_type": "code",
   "source": [
    "macro ma(ex)\n",
    "    # This is a `String` that has interpolated `ex`.\n",
    "    \"$ex\"\n",
    "end\n",
    "println(\n",
    "    (@macroexpand @ma 1 + 2),\n",
    "    \" REPLACES ITSELF WITH \",\n",
    "    typeof(@macroexpand @ma 1 + 2),\n",
    "    \" THAT EVALUATES TO \",\n",
    "    (@ma 1 + 2),\n",
    "    \" OF TYPE \",\n",
    "    typeof(@ma 1 + 2),\n",
    ")"
   ],
   "id": "cbdcb9e5-7d75-4a02-85cd-1a3da051bd3a",
   "metadata": {},
   "execution_count": null
  },
  {
   "outputs": [],
   "cell_type": "code",
   "source": [
    "macro ma(ex)\n",
    "    # This `Expr` contains a `String` that plans to interpolate `ex`.\n",
    "    quote\n",
    "        \"$ex\"\n",
    "    end\n",
    "end\n",
    "try\n",
    "    println(\n",
    "        (@macroexpand @ma 1 + 2),\n",
    "        \" BECOMES A \",\n",
    "        typeof(@macroexpand @ma 1 + 2),\n",
    "        \" THAT EVALUATES TO \",\n",
    "        (@ma 1 + 2),\n",
    "        \" OF TYPE \",\n",
    "        typeof(@ma 1 + 2),\n",
    "    )\n",
    "catch er\n",
    "    println(er)\n",
    "end"
   ],
   "id": "ab69a66f-a31d-4363-8e4a-66375559c91d",
   "metadata": {},
   "execution_count": null
  },
  {
   "outputs": [],
   "cell_type": "code",
   "source": [
    "macro ma(ex)\n",
    "    # This `Expr` contains a `String` that has interpolated `ex`.\n",
    "    quote\n",
    "        \"$($ex)\"\n",
    "    end\n",
    "end\n",
    "println(\n",
    "    (@macroexpand @ma 1 + 2),\n",
    "    \" BECOMES A \",\n",
    "    typeof(@macroexpand @ma 1 + 2),\n",
    "    \" THAT EVALUATES TO \",\n",
    "    (@ma 1 + 2),\n",
    "    \" OF TYPE \",\n",
    "    typeof(@ma 1 + 2),\n",
    ")"
   ],
   "id": "42d0a1de-b45d-4dba-b5ed-1be76a88469e",
   "metadata": {},
   "execution_count": null
  },
  {
   "cell_type": "markdown",
   "source": [
    "First, variables within a macro result are classified as either local or global. A variable is considered local if it is assigned to (and not declared global), declared local, or used as a function argument name. Otherwise, it is considered global. Local variables are then renamed to be unique (using the gensym function, which generates new symbols), and global variables are resolved within the macro definition environment. "
   ],
   "id": "1b9f66b9-b228-4530-8147-932afa75e454",
   "metadata": {}
  },
  {
   "outputs": [],
   "cell_type": "code",
   "source": [
    "variable = \"Important information\"\n",
    "\n",
    "macro ma(ex)\n",
    "    quote\n",
    "        variable = \"LOL\"\n",
    "        $ex\n",
    "    end\n",
    "end\n",
    "@ma 1 + 2\n",
    "variable"
   ],
   "id": "cffffe84-4d1a-4bbd-a34c-a3e1c085f415",
   "metadata": {},
   "execution_count": null
  },
  {
   "outputs": [],
   "cell_type": "code",
   "source": [
    "variable = \"Important information\"\n",
    "\n",
    "macro ma(ex)\n",
    "    esc(quote\n",
    "        variable = \"LOL\"\n",
    "        $ex\n",
    "    end)\n",
    "end\n",
    "@ma 1 + 2\n",
    "variable"
   ],
   "id": "3f542043-6ed1-4d3c-a5f4-9d98d4fbb610",
   "metadata": {},
   "execution_count": null
  },
  {
   "outputs": [],
   "cell_type": "code",
   "source": [
    "va = 1\n",
    "macro zero_variable(ex)\n",
    "    esc(:(va = 0; $ex))\n",
    "end\n",
    "println(@zero_variable 1 + 2)\n",
    "va"
   ],
   "id": "d9302953-8385-4988-97a7-7f8ce1db85f8",
   "metadata": {},
   "execution_count": null
  },
  {
   "outputs": [],
   "cell_type": "code",
   "source": [
    "va = 1\n",
    "macro zero_variable(ex)\n",
    "    esc(quote\n",
    "        va = 0\n",
    "        $ex\n",
    "    end)\n",
    "end\n",
    "println(@zero_variable 1 + 2)\n",
    "va"
   ],
   "id": "948d21a2-be1d-424d-962b-107002b0ab8a",
   "metadata": {},
   "execution_count": null
  }
 ],
 "nbformat_minor": 5,
 "metadata": {
  "language_info": {
   "file_extension": ".jl",
   "mimetype": "application/julia",
   "name": "julia",
   "version": "1.8.3"
  },
  "kernelspec": {
   "name": "julia-1.8",
   "display_name": "Julia 1.8.3",
   "language": "julia"
  }
 },
 "nbformat": 4
}
