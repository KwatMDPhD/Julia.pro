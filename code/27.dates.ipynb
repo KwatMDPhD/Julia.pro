{
 "cells": [
  {
   "outputs": [],
   "cell_type": "code",
   "source": [
    "using Dates"
   ],
   "id": "0f3effc8-2864-48c5-8f39-e5354b17c864",
   "metadata": {},
   "execution_count": null
  },
  {
   "outputs": [],
   "cell_type": "code",
   "source": [
    "for ob in (\"dd\", dateformat\"dd\", \"mmdd\", dateformat\"mmdd\", \"yyymmdd\", dateformat\"yyymmdd\")\n",
    "\n",
    "    println(sizeof(ob))\n",
    "\n",
    "end"
   ],
   "id": "3d2b571f-23b0-4854-abdf-f16046c8e371",
   "metadata": {},
   "execution_count": null
  },
  {
   "outputs": [],
   "cell_type": "code",
   "source": [
    "@btime \"dd\"\n",
    "\n",
    "@btime dateformat\"dd\"\n",
    "\n",
    "@btime \"mmdd\"\n",
    "\n",
    "@btime dateformat\"mmdd\"\n",
    "\n",
    "@btime \"yyyymmdd\"\n",
    "\n",
    "@btime dateformat\"yyyymmdd\"\n",
    "\n",
    ";"
   ],
   "id": "75013a1c-9861-4e33-b17d-8ead1ed876c3",
   "metadata": {},
   "execution_count": null
  }
 ],
 "nbformat_minor": 5,
 "metadata": {
  "language_info": {
   "file_extension": ".jl",
   "mimetype": "application/julia",
   "name": "julia",
   "version": "1.8.3"
  },
  "kernelspec": {
   "name": "julia-1.8",
   "display_name": "Julia 1.8.3",
   "language": "julia"
  }
 },
 "nbformat": 4
}
