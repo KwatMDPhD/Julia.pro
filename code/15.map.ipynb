{
 "cells": [
  {
   "outputs": [],
   "cell_type": "code",
   "source": [
    "n = 10^3\n",
    "\n",
    "nu_ = rand((1, 2, 3), n)\n",
    "\n",
    ";"
   ],
   "id": "af2b55a2-d487-4de8-a083-8747b319a81f",
   "metadata": {},
   "execution_count": null
  },
  {
   "cell_type": "markdown",
   "source": [
    "Generators do not alloacte."
   ],
   "id": "1a5a4e1c-d78e-4e6e-8910-d2a76de169eb",
   "metadata": {}
  },
  {
   "outputs": [],
   "cell_type": "code",
   "source": [
    "@btime sum(nu == 1 for nu in $nu_)\n",
    "\n",
    ";"
   ],
   "id": "b7a4eac3-e7b5-4c41-a22e-6badb348ec09",
   "metadata": {},
   "execution_count": null
  },
  {
   "cell_type": "markdown",
   "source": [
    "Making a vector object results in an unnecessary allocation."
   ],
   "id": "b644bb1f-990f-43ec-9ed3-e33ca2cced59",
   "metadata": {}
  },
  {
   "outputs": [],
   "cell_type": "code",
   "source": [
    "@btime sum([nu == 1 for nu in $nu_])\n",
    "\n",
    ";"
   ],
   "id": "67fd81d2-12ce-4f58-96e4-0c3e6ddab8a5",
   "metadata": {},
   "execution_count": null
  },
  {
   "cell_type": "markdown",
   "source": [
    "Mapping a function allocates.\n",
    "But letting `sum` chain this mapping speeds up the computation."
   ],
   "id": "030d07c4-1cf4-4172-9860-7995f7b705ab",
   "metadata": {}
  },
  {
   "outputs": [],
   "cell_type": "code",
   "source": [
    "@btime sum(map(==(1), $nu_))\n",
    "\n",
    "@btime sum(==(1), $nu_)\n",
    "\n",
    ";"
   ],
   "id": "b9558353-f808-4390-a99f-a891c431500a",
   "metadata": {},
   "execution_count": null
  },
  {
   "cell_type": "markdown",
   "source": [
    "Vectorization is usually fast."
   ],
   "id": "026075c0-459b-4dad-b37f-b3beb6a266cb",
   "metadata": {}
  },
  {
   "outputs": [],
   "cell_type": "code",
   "source": [
    "@btime $nu_ .* 1 ./ 2 .+ 3 .- 4 .^ 5\n",
    "\n",
    "@btime [nu * 1 / 2 + 3 - 4^5 for nu in $nu_]\n",
    "\n",
    ";"
   ],
   "id": "b6bbdba8-8f63-401b-aa15-06886b9485bc",
   "metadata": {},
   "execution_count": null
  },
  {
   "cell_type": "markdown",
   "source": [
    "But vectorization is slow here because it makes a `BitVector` instead of `Vector{Bool}`, where the former is slower to make, smaller, and faster to compute on."
   ],
   "id": "4b0200d9-d3cf-41ff-9a6c-faadf102441e",
   "metadata": {}
  },
  {
   "outputs": [],
   "cell_type": "code",
   "source": [
    "@btime sum($nu_ .== 1)\n",
    "\n",
    ";"
   ],
   "id": "98ecbaf2-dd50-4bf9-ab7d-fc9d0aa8b8b9",
   "metadata": {},
   "execution_count": null
  },
  {
   "outputs": [],
   "cell_type": "code",
   "source": [
    "bo_ = [nu == 1 for nu in nu_]\n",
    "\n",
    "println(supertypes(typeof(bo_)))\n",
    "\n",
    "println(sizeof(bo_))\n",
    "\n",
    "@btime sum($bo_)\n",
    "\n",
    ";"
   ],
   "id": "cc80ebc6-75ca-43e3-9109-a069e1febee6",
   "metadata": {},
   "execution_count": null
  },
  {
   "outputs": [],
   "cell_type": "code",
   "source": [
    "bi_ = nu_ .== 1\n",
    "\n",
    "println(supertypes(typeof(bi_)))\n",
    "\n",
    "println(sizeof(bi_))\n",
    "\n",
    "@btime sum($bi_)\n",
    "\n",
    ";"
   ],
   "id": "dcde668c-a158-4cae-8faf-d0350313560d",
   "metadata": {},
   "execution_count": null
  },
  {
   "cell_type": "markdown",
   "source": [
    "Generators are usually the best, but prefer a specific function like `sum(function, container)`.\n",
    "\n",
    "Check vectorization intermediate types."
   ],
   "id": "956ac6e2-6bda-4fa6-9794-ac48204c348e",
   "metadata": {}
  }
 ],
 "nbformat_minor": 5,
 "metadata": {
  "language_info": {
   "file_extension": ".jl",
   "mimetype": "application/julia",
   "name": "julia",
   "version": "1.8.3"
  },
  "kernelspec": {
   "name": "julia-1.8",
   "display_name": "Julia 1.8.3",
   "language": "julia"
  }
 },
 "nbformat": 4
}
