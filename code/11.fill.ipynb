{
 "cells": [
  {
   "outputs": [],
   "cell_type": "code",
   "source": [
    "n = 10^2\n",
    "\n",
    "si = (n, n)\n",
    "\n",
    ";"
   ],
   "id": "2e6269ab-cb15-4541-9fb0-80f554c631c7",
   "metadata": {},
   "execution_count": null
  },
  {
   "outputs": [],
   "cell_type": "code",
   "source": [
    "@btime fill(0.0, $n)\n",
    "\n",
    "@btime zeros($n)\n",
    "\n",
    "@btime fill(0.0, $si)\n",
    "\n",
    "@btime zeros($si)\n",
    "\n",
    ";"
   ],
   "id": "de9b3e7d-ea4a-4ce9-b269-97819e469b4a",
   "metadata": {},
   "execution_count": null
  },
  {
   "outputs": [],
   "cell_type": "code",
   "source": [
    "@btime fill(0, $n)\n",
    "\n",
    "@btime zeros(Int, $n)\n",
    "\n",
    "@btime fill(0, $si)\n",
    "\n",
    "@btime zeros(Int, $si)\n",
    "\n",
    ";"
   ],
   "id": "c3b7073e-8286-49e4-8299-7a18ac9a4a62",
   "metadata": {},
   "execution_count": null
  },
  {
   "outputs": [],
   "cell_type": "code",
   "source": [
    "@btime fill(1.0, $n)\n",
    "\n",
    "@btime ones($n)\n",
    "\n",
    "@btime fill(1.0, $si)\n",
    "\n",
    "@btime ones($si)\n",
    "\n",
    ";"
   ],
   "id": "e32d1ef5-5b3e-401e-828e-a52c428ab35f",
   "metadata": {},
   "execution_count": null
  },
  {
   "outputs": [],
   "cell_type": "code",
   "source": [
    "@btime fill(1, $n)\n",
    "\n",
    "@btime ones(Int, $n)\n",
    "\n",
    "@btime fill(1, $si)\n",
    "\n",
    "@btime ones(Int, $si)\n",
    "\n",
    ";"
   ],
   "id": "1e038758-cc6e-470c-ad42-7f207c7f009e",
   "metadata": {},
   "execution_count": null
  },
  {
   "cell_type": "markdown",
   "source": [
    "Use more speicfic `zeros` and `ones` instead of `fill` to make an array.\n",
    "\n",
    "Pre-allocating and using `fill!` is even better."
   ],
   "id": "de0364df-6aa4-439e-aa39-2454501b160d",
   "metadata": {}
  }
 ],
 "nbformat_minor": 5,
 "metadata": {
  "language_info": {
   "file_extension": ".jl",
   "mimetype": "application/julia",
   "name": "julia",
   "version": "1.8.3"
  },
  "kernelspec": {
   "name": "julia-1.8",
   "display_name": "Julia 1.8.3",
   "language": "julia"
  }
 },
 "nbformat": 4
}
