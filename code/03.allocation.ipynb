{
 "cells": [
  {
   "cell_type": "markdown",
   "source": [
    "The stack is for small immutable concrete objects.\n",
    "The compiler knows their current and later states.\n",
    "The stack objects are fast to work with.\n",
    "\n",
    "The heap is for all other objects.\n",
    "These objects have unknown types, sizes, fields, or other attributes and can even change to something else.\n",
    "The heap objects are slow to work with.\n",
    "\n",
    "One allocation means that one object was born in the heap.\n",
    "\n",
    "There are three rules of thumb of allocation;\n",
    "\n",
    "1. Type unstable objects need to be heap allocated because they are `Box`ed, which needs allocation.\n",
    "    \n",
    "2. Dynamically sized objects (`String`, `Array`, etc) need to be heap allocated, but sometimes their allocations are eliminated (no guarantee and profiling is the only way to be certain).\n",
    "    \n",
    "3. Mutable objects that escape their original scope need to be allocated because their changes need to be visible to everything that has an access to them.\n",
    "\n",
    "These are just mental steps of debugging when looking allocations, as a preliminary \"first guess\" of what might be the problem before focusing analysis efforts on a specific part."
   ],
   "id": "1927809e-5230-4a4b-af50-ae26279c6c3a",
   "metadata": {}
  },
  {
   "outputs": [],
   "cell_type": "code",
   "source": [
    "# These objects are hard-coded (immutable) and concrete.\n",
    "\n",
    "@btime 1\n",
    "\n",
    "@btime 'a'\n",
    "\n",
    "@btime \"a\"\n",
    "\n",
    "@btime ()\n",
    "\n",
    ";"
   ],
   "id": "a7de511e-3b8f-44ac-b7bb-466e3ad6d51b",
   "metadata": {},
   "execution_count": null
  },
  {
   "outputs": [],
   "cell_type": "code",
   "source": [
    "# These objects are not concrete.\n",
    "\n",
    "@btime []\n",
    "\n",
    "@btime Set()\n",
    "\n",
    "@btime Dict()\n",
    "\n",
    ";"
   ],
   "id": "a5ac7ebb-b674-4844-b6d4-3edab191be9b",
   "metadata": {},
   "execution_count": null
  },
  {
   "outputs": [],
   "cell_type": "code",
   "source": [
    "# These containers have known types but not size, so they are not concrete and are born in the heap.\n",
    "\n",
    "@btime Char[]\n",
    "\n",
    "@btime Set{Float64}()\n",
    "\n",
    "@btime Dict{String, Int}()\n",
    "\n",
    ";"
   ],
   "id": "f249b5bd-8f71-444c-8821-1af34b6a26f6",
   "metadata": {},
   "execution_count": null
  },
  {
   "outputs": [],
   "cell_type": "code",
   "source": [
    "# All the values are born in the stack but `Tuple` in the stack and `Array` in the heap.\n",
    "\n",
    "@btime (1, 2, 3, 4, 5, 6, 7, 8, 9, 10)\n",
    "\n",
    "@btime [1, 2, 3, 4, 5, 6, 7, 8, 9, 10]\n",
    "\n",
    ";"
   ],
   "id": "2c317456-bf9c-4d2a-9636-b7b3d8602883",
   "metadata": {},
   "execution_count": null
  }
 ],
 "nbformat_minor": 5,
 "metadata": {
  "language_info": {
   "file_extension": ".jl",
   "mimetype": "application/julia",
   "name": "julia",
   "version": "1.8.3"
  },
  "kernelspec": {
   "name": "julia-1.8",
   "display_name": "Julia 1.8.3",
   "language": "julia"
  }
 },
 "nbformat": 4
}
