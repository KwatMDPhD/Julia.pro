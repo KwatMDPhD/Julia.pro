{
 "cells": [
  {
   "outputs": [],
   "cell_type": "code",
   "source": [
    "for ch in 'A':'C'\n",
    "\n",
    "    eval(:(struct $(Symbol(ch)) end))\n",
    "\n",
    "end"
   ],
   "id": "9ab4ce04-a38b-488b-b805-717755e0de73",
   "metadata": {},
   "execution_count": null
  },
  {
   "outputs": [],
   "cell_type": "code",
   "source": [
    "macro pr(fi, se)\n",
    "\n",
    "    println(fi, se)\n",
    "\n",
    "end"
   ],
   "id": "910a11b9-4612-42d3-9c3b-b14ea914afa6",
   "metadata": {},
   "execution_count": null
  },
  {
   "outputs": [],
   "cell_type": "code",
   "source": [
    "eval.(Expr.(:macrocall, var\"@pr\", nothing, [A, B], C))\n",
    "\n",
    ";"
   ],
   "id": "7aef32c8-5543-4fe1-a88f-32d8c58ef509",
   "metadata": {},
   "execution_count": null
  }
 ],
 "nbformat_minor": 5,
 "metadata": {
  "language_info": {
   "file_extension": ".jl",
   "mimetype": "application/julia",
   "name": "julia",
   "version": "1.8.3"
  },
  "kernelspec": {
   "name": "julia-1.8",
   "display_name": "Julia 1.8.3",
   "language": "julia"
  }
 },
 "nbformat": 4
}
