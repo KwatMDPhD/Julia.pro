{
 "cells": [
  {
   "outputs": [],
   "cell_type": "code",
   "source": [
    "using DataFrames"
   ],
   "id": "1adc2708-794b-4e72-849c-1ade648edb30",
   "metadata": {},
   "execution_count": null
  },
  {
   "outputs": [],
   "cell_type": "code",
   "source": [
    "# I like using `Pair`s to make a `DataFrame`.\n",
    "@btime DataFrame(:Name => [\"Sally\", \"Bob\", \"Alice\", \"Hank\"], :Grade => [1, 5, 8.5, 4])\n",
    "\n",
    "@btime (Name = [\"Sally\", \"Bob\", \"Alice\", \"Hank\"]; Grade = [1, 5, 8.5, 4]; DataFrame(; Name, Grade));"
   ],
   "id": "e7146966-b82f-4e4e-a570-cbd8909f6364",
   "metadata": {},
   "execution_count": null
  },
  {
   "cell_type": "markdown",
   "source": [
    "Prefer using functions from `DataFrames.jl`.\n",
    "In these microbenchmarks, not using them is faster because the compiler simplifies code.\n",
    "Simpler the code, the easiler for it to be elided."
   ],
   "id": "fed4743d-b111-45fc-874b-69d5d054f758",
   "metadata": {}
  },
  {
   "outputs": [],
   "cell_type": "code",
   "source": [
    "ro_x_co_x_an = DataFrame(:Name => [\"Sally\", \"Bob\", \"Alice\", \"Hank\"], :Grade => [1, 5, 8.5, 4])\n",
    "\n",
    ";"
   ],
   "id": "b5687382-e4f3-4f4a-a9d9-e3f4b2b71377",
   "metadata": {},
   "execution_count": null
  },
  {
   "outputs": [],
   "cell_type": "code",
   "source": [
    "plus_one(gr_::Vector{<:Real}) = gr_ .+ 1.0\n",
    "\n",
    "@btime transform!(da, :Grade => plus_one, renamecols = false) setup = (da = copy(ro_x_co_x_an))\n",
    "\n",
    "@btime select!(da, :, :Grade => plus_one, renamecols = false) setup = (da = copy(ro_x_co_x_an))\n",
    "\n",
    "@btime (da.Grade = plus_one(da.Grade); da) setup = (da = copy(ro_x_co_x_an)) evals = 1;"
   ],
   "id": "4eec9d50-f8d1-4b4b-981a-b904cb9e9d22",
   "metadata": {},
   "execution_count": null
  },
  {
   "outputs": [],
   "cell_type": "code",
   "source": [
    "# Use `ByRow` to make this function apply on a column.\n",
    "\n",
    "plus_one(gr::Real) = gr + 1.0\n",
    "\n",
    "@btime transform!(da, :Grade => ByRow(plus_one), renamecols = false) setup =\n",
    "    (da = copy(ro_x_co_x_an))\n",
    "\n",
    "@btime select!(da, :, :Grade => ByRow(plus_one), renamecols = false) setup =\n",
    "    (da = copy(ro_x_co_x_an))\n",
    "\n",
    "@btime (da.Grade = plus_one.(da.Grade); da) setup = (da = copy(ro_x_co_x_an)) evals = 1;"
   ],
   "id": "8de6a7e4-337a-4e0b-b0cf-75d93394167e",
   "metadata": {},
   "execution_count": null
  }
 ],
 "nbformat_minor": 5,
 "metadata": {
  "language_info": {
   "file_extension": ".jl",
   "mimetype": "application/julia",
   "name": "julia",
   "version": "1.8.3"
  },
  "kernelspec": {
   "name": "julia-1.8",
   "display_name": "Julia 1.8.3",
   "language": "julia"
  }
 },
 "nbformat": 4
}
