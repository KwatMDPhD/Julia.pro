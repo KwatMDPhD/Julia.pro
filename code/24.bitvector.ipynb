{
 "cells": [
  {
   "outputs": [],
   "cell_type": "code",
   "source": [
    "bo_ = rand((false, true), 10^3)\n",
    "\n",
    "println(supertypes(typeof(bo_)))\n",
    "\n",
    "println(sizeof(bo_))\n",
    "\n",
    "@btime sum($bo_)"
   ],
   "id": "a7428674-5603-4250-a402-8bf227a1f344",
   "metadata": {},
   "execution_count": null
  },
  {
   "outputs": [],
   "cell_type": "code",
   "source": [
    "bi_ = BitVector(bo_)\n",
    "\n",
    "println(supertypes(typeof(bi_)))\n",
    "\n",
    "println(sizeof(bi_))\n",
    "\n",
    "@btime sum($bi_)"
   ],
   "id": "51ac6e34-c447-4a3f-99a4-1c3d6be8b5fb",
   "metadata": {},
   "execution_count": null
  },
  {
   "cell_type": "markdown",
   "source": [
    "Making `BitVector` takes more time but it is smaller and faster to operate on."
   ],
   "id": "a74510b3-cb8f-4bc8-a477-774a47221055",
   "metadata": {}
  }
 ],
 "nbformat_minor": 5,
 "metadata": {
  "language_info": {
   "file_extension": ".jl",
   "mimetype": "application/julia",
   "name": "julia",
   "version": "1.8.3"
  },
  "kernelspec": {
   "name": "julia-1.8",
   "display_name": "Julia 1.8.3",
   "language": "julia"
  }
 },
 "nbformat": 4
}
