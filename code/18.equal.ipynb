{
 "cells": [
  {
   "outputs": [],
   "cell_type": "code",
   "source": [
    "# `isequal` checks hashs.\n",
    "\n",
    "for (an1, an2) in ((missing, missing), (NaN, NaN), (Inf, Inf), (0, 0.0), (-0.0, 0.0))\n",
    "\n",
    "    println(\"$an1 ($(hash(an1))) and $an2 ($(hash(an2)))\")\n",
    "\n",
    "    println(an1 == an2)\n",
    "\n",
    "    println(isequal(an1, an2))\n",
    "\n",
    "end"
   ],
   "id": "a51dc944-fe34-4656-8a00-76687d0baef3",
   "metadata": {},
   "execution_count": null
  }
 ],
 "nbformat_minor": 5,
 "metadata": {
  "language_info": {
   "file_extension": ".jl",
   "mimetype": "application/julia",
   "name": "julia",
   "version": "1.8.3"
  },
  "kernelspec": {
   "name": "julia-1.8",
   "display_name": "Julia 1.8.3",
   "language": "julia"
  }
 },
 "nbformat": 4
}
