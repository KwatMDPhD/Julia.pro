{
 "cells": [
  {
   "outputs": [],
   "cell_type": "code",
   "source": [
    "nua_ = [1, 2, 3]\n",
    "\n",
    "const nuac_ = [1, 2, 3]\n",
    "\n",
    "nut_ = (1, 2, 3)\n",
    "\n",
    "const nutc_ = (1, 2, 3)\n",
    "\n",
    ";"
   ],
   "id": "55af89e0-9854-440c-a589-dbe762c6a384",
   "metadata": {},
   "execution_count": null
  },
  {
   "cell_type": "markdown",
   "source": [
    "Letting the compiler know about all variable types (that do not change) allows it to optimize the code at compile time.\n",
    "\n",
    "Interpolated, hard-coded objects are made in a non-global block before benchmarking starts, and the compiler knows about them.\n",
    "\n",
    "Accessing such object takes a fraction of ns.\n",
    "\n",
    "Non-constant global variables, even the ones pointing to an immutable type like `Tuple`, can be redirected (by other code) to another type at run time."
   ],
   "id": "ba4edf93-e45b-470c-b583-bcfb7d200205",
   "metadata": {}
  },
  {
   "outputs": [],
   "cell_type": "code",
   "source": [
    "# The output makes a `Int[]` (allocation)."
   ],
   "id": "1f46fd4a-2afa-49c7-9598-1eb74293227f",
   "metadata": {},
   "execution_count": null
  },
  {
   "outputs": [],
   "cell_type": "code",
   "source": [
    "# Only at run time, the compiler gets to know about the input type `Int` and makes an intermediate `Int[]` (allocation) to optimize the code for.\n",
    "@btime map(nu -> nu^2, nua_)\n",
    "\n",
    "# Interpolation lets the compiler know about it at compile time.\n",
    "@btime map(nu -> nu^2, $nua_)\n",
    "\n",
    ";"
   ],
   "id": "2ba55b0a-693f-443d-bd3a-10586f1b821a",
   "metadata": {},
   "execution_count": null
  },
  {
   "outputs": [],
   "cell_type": "code",
   "source": [
    "# A hard-coded `Int[1, 2, 3]` is made (allocated) and the compiler knows about its type.\n",
    "@btime map(nu -> nu^2, [1, 2, 3])\n",
    "\n",
    "# Making in the same block is faster.\n",
    "@btime map(nu -> nu^2, $[1, 2, 3])\n",
    "\n",
    ";"
   ],
   "id": "ebb8269f-99d9-4c95-9ec5-074ed3bc4dfd",
   "metadata": {},
   "execution_count": null
  },
  {
   "outputs": [],
   "cell_type": "code",
   "source": [
    "# The compiler knows about the types of constant variables.\n",
    "@btime map(nu -> nu^2, nuac_)\n",
    "\n",
    "# Interpolation does not matter.\n",
    "@btime map(nu -> nu^2, $nuac_)\n",
    "\n",
    ";"
   ],
   "id": "a12ce07d-69fa-4fd5-8af6-571b89b66fd3",
   "metadata": {},
   "execution_count": null
  },
  {
   "outputs": [],
   "cell_type": "code",
   "source": [
    "# The output makes a `Tuple`."
   ],
   "id": "0d116d7d-b8bc-48ef-a8a3-1fc5dfa51023",
   "metadata": {},
   "execution_count": null
  },
  {
   "outputs": [],
   "cell_type": "code",
   "source": [
    "# Only at run time, the compiler gets to know about the input type `Int` and makes an intermediate `Int[]` (allocation) to optimize the code for.\n",
    "@btime map(nu -> nu^2, nut_)\n",
    "\n",
    "# Interpolation lets the compiler know about it at compile time.\n",
    "@btime map(nu -> nu^2, $nut_);"
   ],
   "id": "eef7e51e-8df6-4359-8ed8-1b842f9a1035",
   "metadata": {},
   "execution_count": null
  },
  {
   "outputs": [],
   "cell_type": "code",
   "source": [
    "# A hard-coded `Tuple` is made and the compiler knows about its type.\n",
    "@btime map(nu -> nu^2, (1, 2, 3))\n",
    "\n",
    "# Making in the same block is faster.\n",
    "@btime map(nu -> nu^2, $(1, 2, 3))\n",
    "\n",
    ";"
   ],
   "id": "1236727a-3417-4b2f-b306-cdad01cb4e28",
   "metadata": {},
   "execution_count": null
  },
  {
   "outputs": [],
   "cell_type": "code",
   "source": [
    "# The compiler knows about the types of interpolated variables.\n",
    "@btime map(nu -> nu^2, $nutc_)\n",
    "\n",
    "# Interpolation does not matter.\n",
    "@btime map(nu -> nu^2, nutc_)\n",
    "\n",
    ";"
   ],
   "id": "7fce5929-aa70-4e67-9531-c5327d9a2450",
   "metadata": {},
   "execution_count": null
  },
  {
   "outputs": [],
   "cell_type": "code",
   "source": [
    "# The compiler knows about these inputs.\n",
    "\n",
    "@btime [nu^2 for nu in $nua_]\n",
    "\n",
    "@btime [nu^2 for nu in $[1, 2, 3]]\n",
    "\n",
    "@btime [nu^2 for nu in $nut_]\n",
    "\n",
    "@btime [nu^2 for nu in $(1, 2, 3)]\n",
    "\n",
    "@btime [nu^2 for nu in (1, 2, 3)]\n",
    "\n",
    "@btime [nu^2 for nu in $[1, 2, 3]]\n",
    "\n",
    "# The hard-coded object is made (allocated) during benchmarking.\n",
    "@btime [nu^2 for nu in [1, 2, 3]]\n",
    "\n",
    ";"
   ],
   "id": "93bde75c-f3cd-4cea-aab6-174f74e0e90b",
   "metadata": {},
   "execution_count": null
  },
  {
   "outputs": [],
   "cell_type": "code",
   "source": [
    "# Accessing mutable variables results in an allocation of temporary typed, immutable counterparts.\n",
    "\n",
    "@btime [nu^2 for nu in nuac_]\n",
    "\n",
    "@btime [nu^2 for nu in nua_]\n",
    "\n",
    "@btime [nu^2 for nu in nutc_]\n",
    "\n",
    "@btime [nu^2 for nu in nut_]\n",
    "\n",
    ";"
   ],
   "id": "64c15587-63cf-462d-a6b2-6d123c40845f",
   "metadata": {},
   "execution_count": null
  }
 ],
 "nbformat_minor": 5,
 "metadata": {
  "language_info": {
   "file_extension": ".jl",
   "mimetype": "application/julia",
   "name": "julia",
   "version": "1.8.3"
  },
  "kernelspec": {
   "name": "julia-1.8",
   "display_name": "Julia 1.8.3",
   "language": "julia"
  }
 },
 "nbformat": 4
}
