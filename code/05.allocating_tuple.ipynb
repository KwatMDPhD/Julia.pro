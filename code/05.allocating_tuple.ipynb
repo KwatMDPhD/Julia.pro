{
 "cells": [
  {
   "outputs": [],
   "cell_type": "code",
   "source": [
    "# `Tuple`s have a size of 0 and are born in the stack instead of born and allocated in the heap.\n",
    "\n",
    "println(sizeof(()))\n",
    "\n",
    "@btime ()\n",
    "\n",
    ";"
   ],
   "id": "4a567940-7c97-444f-b311-b9b03f4c8f6b",
   "metadata": {},
   "execution_count": null
  },
  {
   "outputs": [],
   "cell_type": "code",
   "source": [
    "println(tuple(1, 2.0))\n",
    "\n",
    "# Julia has a convention `Collection(another_collection)`.\n",
    "\n",
    "try\n",
    "\n",
    "    Tuple(1, 2.0)\n",
    "\n",
    "catch er\n",
    "\n",
    "    println(er)\n",
    "\n",
    "end\n",
    "\n",
    "println(Tuple((1, 2.0)))\n",
    "\n",
    "println(Tuple(1))"
   ],
   "id": "e84893a4-447e-4137-b3c6-6336fd0de01a",
   "metadata": {},
   "execution_count": null
  },
  {
   "cell_type": "markdown",
   "source": [
    "The following examples are for being comfortable with benchmarking and profiling.\n",
    "\n",
    "The number of allocations depends on the implementations of the low-level function and the compiler.\n",
    "These were done with Julia 1.8.3.\n",
    "In 1.9, things seem get better and the allocations dissapear.\n",
    "\n",
    "Furthermore, some allocations are only done during a benchmark."
   ],
   "id": "25b8182f-588e-41c2-a815-32d1cd6c2838",
   "metadata": {}
  },
  {
   "outputs": [],
   "cell_type": "code",
   "source": [
    "# Note that unlike `tuple()` function, `Tuple()` constructor allocates more.\n",
    "\n",
    "@btime (3,)\n",
    "\n",
    "@btime tuple(3)\n",
    "\n",
    "@btime Tuple(3)\n",
    "\n",
    "# The first allocation comes from `collect`ing values and the second from splatting (`...`) them into a `Tuple`.\n",
    "\n",
    "Profile.Allocs.clear()\n",
    "\n",
    "Profile.Allocs.@profile sample_rate = 1 Tuple(3)\n",
    "\n",
    "PProf.Allocs.pprof(from_c = false)"
   ],
   "id": "dfb9317e-4d3b-4baa-9b78-309c305cb241",
   "metadata": {},
   "execution_count": null
  },
  {
   "outputs": [],
   "cell_type": "code",
   "source": [
    "# Using `Float64` results in splatting size and adds one more allocation.\n",
    "\n",
    "@btime (3.0,)\n",
    "\n",
    "@btime tuple(3.0)\n",
    "\n",
    "@btime Tuple(3.0)\n",
    "\n",
    "Profile.Allocs.clear()\n",
    "\n",
    "Profile.Allocs.@profile sample_rate = 1 Tuple(3.0)\n",
    "\n",
    "PProf.Allocs.pprof(from_c = false)"
   ],
   "id": "354c06c1-f8c8-4c78-ae13-cfe48031e997",
   "metadata": {},
   "execution_count": null
  }
 ],
 "nbformat_minor": 5,
 "metadata": {
  "language_info": {
   "file_extension": ".jl",
   "mimetype": "application/julia",
   "name": "julia",
   "version": "1.8.3"
  },
  "kernelspec": {
   "name": "julia-1.8",
   "display_name": "Julia 1.8.3",
   "language": "julia"
  }
 },
 "nbformat": 4
}
