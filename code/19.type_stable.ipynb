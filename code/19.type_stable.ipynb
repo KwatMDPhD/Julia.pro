{
 "cells": [
  {
   "outputs": [],
   "cell_type": "code",
   "source": [
    "nu_ = rand(1.0:9, 10^2)\n",
    "\n",
    ";"
   ],
   "id": "f573b510-d45c-40a5-af56-1555f64f71bf",
   "metadata": {},
   "execution_count": null
  },
  {
   "outputs": [],
   "cell_type": "code",
   "source": [
    "# `ifelse` is type stable, returning `Float64`.\n",
    "\n",
    "@btime [ifelse(nu < 5.0, nu, 0.0) for nu in $nu_]\n",
    "\n",
    "@btime [ifelse(nu < 5, nu, 0.0) for nu in $nu_]\n",
    "\n",
    ";"
   ],
   "id": "2e68bb04-2319-4c8c-aad0-18f5b3a48858",
   "metadata": {},
   "execution_count": null
  },
  {
   "outputs": [],
   "cell_type": "code",
   "source": [
    "# `ifelse` is not type stable, returning `Float64` or `Int`.\n",
    "# Converting types requires temporary allocations.\n",
    "\n",
    "@btime [ifelse(nu < 5.0, nu, 0) for nu in $nu_]\n",
    "\n",
    "@btime [ifelse(nu < 5, nu, 0) for nu in $nu_]\n",
    "\n",
    ";"
   ],
   "id": "44ad56e6-d6bf-4151-a24f-9ca551873c1f",
   "metadata": {},
   "execution_count": null
  }
 ],
 "nbformat_minor": 5,
 "metadata": {
  "language_info": {
   "file_extension": ".jl",
   "mimetype": "application/julia",
   "name": "julia",
   "version": "1.8.3"
  },
  "kernelspec": {
   "name": "julia-1.8",
   "display_name": "Julia 1.8.3",
   "language": "julia"
  }
 },
 "nbformat": 4
}
