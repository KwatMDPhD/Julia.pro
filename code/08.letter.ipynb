{
 "cells": [
  {
   "outputs": [],
   "cell_type": "code",
   "source": [
    "# `Char`s are concrete, so they always occupy 4 bytes (this is why an empty `Char` '' can not exist).\n",
    "\n",
    "println(sizeof(Char))\n",
    "\n",
    "println(sizeof('a'))"
   ],
   "id": "5c4e2214-a4dc-40a5-8e3a-5cbcca0a6fc1",
   "metadata": {},
   "execution_count": null
  },
  {
   "outputs": [],
   "cell_type": "code",
   "source": [
    "# On the other hand, `String`s are mutable in size, like `Array`s.\n",
    "\n",
    "for ty in (Array, String)\n",
    "\n",
    "    try\n",
    "\n",
    "        sizeof(ty)\n",
    "\n",
    "    catch er\n",
    "\n",
    "        println(er.msg)\n",
    "\n",
    "    end\n",
    "\n",
    "end\n",
    "\n",
    "for st in (\"\", \"a\", \"aa\", \"aaa\", \"aaaaaaaaa\")\n",
    "\n",
    "    println(sizeof(st))\n",
    "\n",
    "end"
   ],
   "id": "f4678c7e-a7ff-443e-b2e5-245d15449b69",
   "metadata": {},
   "execution_count": null
  },
  {
   "outputs": [],
   "cell_type": "code",
   "source": [
    "# The compiler simplifies code, and benchmarking small code is tricky and may not reflect what happens when the code is part of another code.\n",
    "# Perhaps because `Char`s have a fixed length, they are faster to work with than `String`s.\n",
    "\n",
    "@btime 'a'\n",
    "\n",
    "@btime \"a\"\n",
    "\n",
    "for (xs, ys) in\n",
    "    ((('a', 'c', 'e'), ('a', 'b', 'c', 'd', 'e')), ((\"a\", \"c\", \"e\"), (\"a\", \"b\", \"c\", \"d\", \"e\")))\n",
    "\n",
    "    @btime all(x in ys for x in xs)\n",
    "\n",
    "    @btime all(x in $ys for x in $xs)\n",
    "\n",
    "end"
   ],
   "id": "e02e8357-8160-477c-b7c8-0c025087cd98",
   "metadata": {},
   "execution_count": null
  },
  {
   "outputs": [],
   "cell_type": "code",
   "source": [
    "# It is okay to not 100% understanding what goes on in a benchmark.\n",
    "\n",
    "@btime all(x in ys for x in xs) setup = (xs = ('a', 'c', 'e'), ys = ('a', 'b', 'c', 'd', 'e'))\n",
    "\n",
    "@btime all(x in ys for x in xs) setup = (xs = (\"a\", \"c\", \"e\"), ys = (\"a\", \"b\", \"c\", \"d\", \"e\"))\n",
    "\n",
    ";"
   ],
   "id": "e43ecd00-eb8d-43d3-9411-84121411c3db",
   "metadata": {},
   "execution_count": null
  },
  {
   "outputs": [],
   "cell_type": "code",
   "source": [
    "aa = \"Aa\"\n",
    "\n",
    "bb = \"Bb\"\n",
    "\n",
    "@btime string($aa, $bb)\n",
    "\n",
    "@btime string($aa, \" \", $bb)\n",
    "\n",
    "@btime \"$($aa)$($bb)\"\n",
    "\n",
    "@btime \"$($aa) $($bb)\"\n",
    "\n",
    ";"
   ],
   "id": "23635d58-2b49-4864-85ab-2fb11d0e6ba9",
   "metadata": {},
   "execution_count": null
  },
  {
   "cell_type": "markdown",
   "source": [
    "Pick `string` or interpolation based on your style, and stick to it.\n",
    "(I like interpolation.)"
   ],
   "id": "09ef46dd-4fcb-4591-a16a-4f2243cf72fc",
   "metadata": {}
  }
 ],
 "nbformat_minor": 5,
 "metadata": {
  "language_info": {
   "file_extension": ".jl",
   "mimetype": "application/julia",
   "name": "julia",
   "version": "1.8.3"
  },
  "kernelspec": {
   "name": "julia-1.8",
   "display_name": "Julia 1.8.3",
   "language": "julia"
  }
 },
 "nbformat": 4
}
