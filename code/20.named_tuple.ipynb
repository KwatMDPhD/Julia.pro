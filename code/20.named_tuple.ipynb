{
 "cells": [
  {
   "outputs": [],
   "cell_type": "code",
   "source": [
    "na = (In = 1:9, Fl = 1.0:9)"
   ],
   "id": "a03509f3-8e8d-446b-a91d-a77acf2ac710",
   "metadata": {},
   "execution_count": null
  },
  {
   "outputs": [],
   "cell_type": "code",
   "source": [
    "# At compile time, the compiler does not know that the `Symbol` is `:Char`.\n",
    "# It compiles getproperty(ta, ::Symbol), which returns `Vector{Any}`.\n",
    "@code_warntype na.In"
   ],
   "id": "fadf37e4-b32f-443f-bc27-f0e4d262e9ca",
   "metadata": {},
   "execution_count": null
  },
  {
   "outputs": [],
   "cell_type": "code",
   "source": [
    "# At compile time, the compiler knows that the `Symbol` is `:Char`.\n",
    "# It compiles getproperty(ta, :Char), which returns `Vector{Char}`.\n",
    "@code_warntype (na -> na.In)(na)"
   ],
   "id": "7ffbb15c-6cbe-4608-bbdf-862ae24928fe",
   "metadata": {},
   "execution_count": null
  },
  {
   "cell_type": "markdown",
   "source": [
    "If the compiler knows the columns extracted from a `NamedTuple` at compile time, the compiler optimizes code and return type."
   ],
   "id": "38dd8b6d-a911-46fd-bcf7-682b9bab7ed5",
   "metadata": {}
  },
  {
   "outputs": [],
   "cell_type": "code",
   "source": [
    "na = (ab = [1, 2], cd = [3.0, 4.0], ef = [true, false])\n",
    "\n",
    "# Luffy is the son of Dragon.\n",
    "\n",
    "luffy(na, id) = na[id]\n",
    "\n",
    "dragon(na) = luffy(na, 1)\n",
    "\n",
    ";"
   ],
   "id": "b2bcbbd1-a30e-46a2-9c50-de6adc12c87c",
   "metadata": {},
   "execution_count": null
  },
  {
   "outputs": [],
   "cell_type": "code",
   "source": [
    "@code_warntype luffy(na, 1)"
   ],
   "id": "3168a91c-29bf-444f-aec2-632df993d0b5",
   "metadata": {},
   "execution_count": null
  },
  {
   "outputs": [],
   "cell_type": "code",
   "source": [
    "@code_warntype dragon(na)"
   ],
   "id": "c91ba352-39f3-42cc-84bc-9b74c5185868",
   "metadata": {},
   "execution_count": null
  },
  {
   "cell_type": "markdown",
   "source": [
    "It is not enough to have a type-stable data structure but also type-stable code."
   ],
   "id": "32c71232-6863-435d-a81d-7407eadae72a",
   "metadata": {}
  },
  {
   "cell_type": "markdown",
   "source": [
    "`Base.getproperty(na, :In)` propagates `Constant` `In`, and the compiler knows the types.\n",
    "\n",
    "`Base.getindex(na, id)` does not tell about `id`'s type, and the compiler must figure it out and optimize during run time."
   ],
   "id": "34c50fb8-baaa-4b99-beae-0eb6c691ebc6",
   "metadata": {}
  }
 ],
 "nbformat_minor": 5,
 "metadata": {
  "language_info": {
   "file_extension": ".jl",
   "mimetype": "application/julia",
   "name": "julia",
   "version": "1.8.3"
  },
  "kernelspec": {
   "name": "julia-1.8",
   "display_name": "Julia 1.8.3",
   "language": "julia"
  }
 },
 "nbformat": 4
}
